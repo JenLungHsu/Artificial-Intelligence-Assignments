{
 "cells": [
  {
   "cell_type": "code",
   "execution_count": 3,
   "metadata": {},
   "outputs": [
    {
     "data": {
      "text/html": [
       "<div>\n",
       "<style scoped>\n",
       "    .dataframe tbody tr th:only-of-type {\n",
       "        vertical-align: middle;\n",
       "    }\n",
       "\n",
       "    .dataframe tbody tr th {\n",
       "        vertical-align: top;\n",
       "    }\n",
       "\n",
       "    .dataframe thead th {\n",
       "        text-align: right;\n",
       "    }\n",
       "</style>\n",
       "<table border=\"1\" class=\"dataframe\">\n",
       "  <thead>\n",
       "    <tr style=\"text-align: right;\">\n",
       "      <th></th>\n",
       "      <th>x</th>\n",
       "      <th>y</th>\n",
       "      <th>label</th>\n",
       "    </tr>\n",
       "  </thead>\n",
       "  <tbody>\n",
       "    <tr>\n",
       "      <th>0</th>\n",
       "      <td>165.65</td>\n",
       "      <td>35.41</td>\n",
       "      <td>0</td>\n",
       "    </tr>\n",
       "    <tr>\n",
       "      <th>1</th>\n",
       "      <td>148.53</td>\n",
       "      <td>74.45</td>\n",
       "      <td>0</td>\n",
       "    </tr>\n",
       "    <tr>\n",
       "      <th>2</th>\n",
       "      <td>167.04</td>\n",
       "      <td>81.22</td>\n",
       "      <td>1</td>\n",
       "    </tr>\n",
       "    <tr>\n",
       "      <th>3</th>\n",
       "      <td>161.54</td>\n",
       "      <td>71.47</td>\n",
       "      <td>1</td>\n",
       "    </tr>\n",
       "    <tr>\n",
       "      <th>4</th>\n",
       "      <td>174.31</td>\n",
       "      <td>78.18</td>\n",
       "      <td>1</td>\n",
       "    </tr>\n",
       "  </tbody>\n",
       "</table>\n",
       "</div>"
      ],
      "text/plain": [
       "        x      y  label\n",
       "0  165.65  35.41      0\n",
       "1  148.53  74.45      0\n",
       "2  167.04  81.22      1\n",
       "3  161.54  71.47      1\n",
       "4  174.31  78.18      1"
      ]
     },
     "execution_count": 3,
     "metadata": {},
     "output_type": "execute_result"
    }
   ],
   "source": [
    "import pandas as pd\n",
    "\n",
    "\n",
    "df = pd.read_csv('/ssd6/Roy/Training set.csv')\n",
    "\n",
    "# Assign label 1 for Male and 0 for Female\n",
    "df['label'] = df['Sex'].apply(lambda x: 1 if x == 'Male' else 0)\n",
    "\n",
    "# Assign Height as x and Weight as y\n",
    "df[['x', 'y']] = df[['Height', 'Weight']]\n",
    "\n",
    "# Displaying the first few rows to confirm\n",
    "df[['x', 'y', 'label']].head()\n"
   ]
  },
  {
   "cell_type": "code",
   "execution_count": 4,
   "metadata": {},
   "outputs": [
    {
     "data": {
      "text/plain": [
       "'[{\"x\":165.65,\"y\":35.41,\"label\":0},{\"x\":148.53,\"y\":74.45,\"label\":0},{\"x\":167.04,\"y\":81.22,\"label\":1},{\"x\":161.54,\"y\":71.47,\"label\":1},{\"x\":174.31,\"y\":78.18,\"label\":1},{\"x\":143.05,\"y\":79.27,\"label\":0},{'"
      ]
     },
     "execution_count": 4,
     "metadata": {},
     "output_type": "execute_result"
    }
   ],
   "source": [
    "# Saving the transformed data as a JSON file\n",
    "df[['x', 'y', 'label']].to_json('height_weight_label.json', orient='records')\n",
    "\n",
    "# Confirm the process by showing the first few rows of the JSON format\n",
    "json_output = df[['x', 'y', 'label']].to_json(orient='records')\n",
    "json_output[:200]  # Displaying a snippet of the JSON content"
   ]
  }
 ],
 "metadata": {
  "kernelspec": {
   "display_name": "Roy",
   "language": "python",
   "name": "python3"
  },
  "language_info": {
   "codemirror_mode": {
    "name": "ipython",
    "version": 3
   },
   "file_extension": ".py",
   "mimetype": "text/x-python",
   "name": "python",
   "nbconvert_exporter": "python",
   "pygments_lexer": "ipython3",
   "version": "3.8.18"
  }
 },
 "nbformat": 4,
 "nbformat_minor": 2
}
